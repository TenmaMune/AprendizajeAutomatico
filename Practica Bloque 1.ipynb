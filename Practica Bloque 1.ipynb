{
 "cells": [
  {
   "cell_type": "markdown",
   "metadata": {},
   "source": [
    "# Carga de librerías"
   ]
  },
  {
   "cell_type": "code",
   "execution_count": 1,
   "metadata": {
    "ExecuteTime": {
     "end_time": "2018-08-25T03:56:23.993097Z",
     "start_time": "2018-08-25T03:56:23.138209Z"
    }
   },
   "outputs": [],
   "source": [
    "from sklearn.model_selection import train_test_split\n",
    "from sklearn.ensemble import RandomForestRegressor\n",
    "from sklearn.linear_model import LinearRegression\n",
    "from sklearn.model_selection import GridSearchCV\n",
    "from pandas import DataFrame , read_csv , concat\n",
    "from sklearn.tree import DecisionTreeRegressor\n",
    "from sklearn.metrics import mean_squared_error\n",
    "from sklearn.preprocessing import MinMaxScaler\n",
    "from matplotlib.pyplot import subplots , show\n",
    "import numpy as np"
   ]
  },
  {
   "cell_type": "markdown",
   "metadata": {},
   "source": [
    "# Pretratamiento de datos"
   ]
  },
  {
   "cell_type": "markdown",
   "metadata": {},
   "source": [
    "## Carga de datos"
   ]
  },
  {
   "cell_type": "code",
   "execution_count": 2,
   "metadata": {},
   "outputs": [
    {
     "data": {
      "text/html": [
       "<div>\n",
       "<style scoped>\n",
       "    .dataframe tbody tr th:only-of-type {\n",
       "        vertical-align: middle;\n",
       "    }\n",
       "\n",
       "    .dataframe tbody tr th {\n",
       "        vertical-align: top;\n",
       "    }\n",
       "\n",
       "    .dataframe thead th {\n",
       "        text-align: right;\n",
       "    }\n",
       "</style>\n",
       "<table border=\"1\" class=\"dataframe\">\n",
       "  <thead>\n",
       "    <tr style=\"text-align: right;\">\n",
       "      <th></th>\n",
       "      <th>id</th>\n",
       "      <th>listing_url</th>\n",
       "      <th>scrape_id</th>\n",
       "      <th>last_scraped</th>\n",
       "      <th>name</th>\n",
       "      <th>description</th>\n",
       "      <th>neighborhood_overview</th>\n",
       "      <th>picture_url</th>\n",
       "      <th>host_id</th>\n",
       "      <th>host_url</th>\n",
       "      <th>...</th>\n",
       "      <th>review_scores_communication</th>\n",
       "      <th>review_scores_location</th>\n",
       "      <th>review_scores_value</th>\n",
       "      <th>license</th>\n",
       "      <th>instant_bookable</th>\n",
       "      <th>calculated_host_listings_count</th>\n",
       "      <th>calculated_host_listings_count_entire_homes</th>\n",
       "      <th>calculated_host_listings_count_private_rooms</th>\n",
       "      <th>calculated_host_listings_count_shared_rooms</th>\n",
       "      <th>reviews_per_month</th>\n",
       "    </tr>\n",
       "  </thead>\n",
       "  <tbody>\n",
       "    <tr>\n",
       "      <th>0</th>\n",
       "      <td>11547</td>\n",
       "      <td>https://www.airbnb.com/rooms/11547</td>\n",
       "      <td>20200919153121</td>\n",
       "      <td>2020-09-21</td>\n",
       "      <td>My home at the beach</td>\n",
       "      <td>Sun, joy, relax, quality, beach &amp; peace.&lt;br /&gt;...</td>\n",
       "      <td>NaN</td>\n",
       "      <td>https://a0.muscache.com/pictures/494126/8c151b...</td>\n",
       "      <td>42942</td>\n",
       "      <td>https://www.airbnb.com/users/show/42942</td>\n",
       "      <td>...</td>\n",
       "      <td>10.0</td>\n",
       "      <td>10.0</td>\n",
       "      <td>10.0</td>\n",
       "      <td>NaN</td>\n",
       "      <td>f</td>\n",
       "      <td>1</td>\n",
       "      <td>1</td>\n",
       "      <td>0</td>\n",
       "      <td>0</td>\n",
       "      <td>0.93</td>\n",
       "    </tr>\n",
       "    <tr>\n",
       "      <th>1</th>\n",
       "      <td>100831</td>\n",
       "      <td>https://www.airbnb.com/rooms/100831</td>\n",
       "      <td>20200919153121</td>\n",
       "      <td>2020-09-21</td>\n",
       "      <td>HOUSE IN MALLORCA - WiFi(ET-3045)</td>\n",
       "      <td>&lt;b&gt;The space&lt;/b&gt;&lt;br /&gt;House situated in a quie...</td>\n",
       "      <td>NaN</td>\n",
       "      <td>https://a0.muscache.com/pictures/675527/72b329...</td>\n",
       "      <td>529151</td>\n",
       "      <td>https://www.airbnb.com/users/show/529151</td>\n",
       "      <td>...</td>\n",
       "      <td>10.0</td>\n",
       "      <td>10.0</td>\n",
       "      <td>10.0</td>\n",
       "      <td>ETV-3045</td>\n",
       "      <td>t</td>\n",
       "      <td>1</td>\n",
       "      <td>1</td>\n",
       "      <td>0</td>\n",
       "      <td>0</td>\n",
       "      <td>1.47</td>\n",
       "    </tr>\n",
       "  </tbody>\n",
       "</table>\n",
       "<p>2 rows × 74 columns</p>\n",
       "</div>"
      ],
      "text/plain": [
       "       id                          listing_url       scrape_id last_scraped  \\\n",
       "0   11547   https://www.airbnb.com/rooms/11547  20200919153121   2020-09-21   \n",
       "1  100831  https://www.airbnb.com/rooms/100831  20200919153121   2020-09-21   \n",
       "\n",
       "                                name  \\\n",
       "0               My home at the beach   \n",
       "1  HOUSE IN MALLORCA - WiFi(ET-3045)   \n",
       "\n",
       "                                         description neighborhood_overview  \\\n",
       "0  Sun, joy, relax, quality, beach & peace.<br />...                   NaN   \n",
       "1  <b>The space</b><br />House situated in a quie...                   NaN   \n",
       "\n",
       "                                         picture_url  host_id  \\\n",
       "0  https://a0.muscache.com/pictures/494126/8c151b...    42942   \n",
       "1  https://a0.muscache.com/pictures/675527/72b329...   529151   \n",
       "\n",
       "                                   host_url  ... review_scores_communication  \\\n",
       "0   https://www.airbnb.com/users/show/42942  ...                        10.0   \n",
       "1  https://www.airbnb.com/users/show/529151  ...                        10.0   \n",
       "\n",
       "  review_scores_location review_scores_value   license instant_bookable  \\\n",
       "0                   10.0                10.0       NaN                f   \n",
       "1                   10.0                10.0  ETV-3045                t   \n",
       "\n",
       "  calculated_host_listings_count calculated_host_listings_count_entire_homes  \\\n",
       "0                              1                                           1   \n",
       "1                              1                                           1   \n",
       "\n",
       "  calculated_host_listings_count_private_rooms  \\\n",
       "0                                            0   \n",
       "1                                            0   \n",
       "\n",
       "  calculated_host_listings_count_shared_rooms reviews_per_month  \n",
       "0                                           0              0.93  \n",
       "1                                           0              1.47  \n",
       "\n",
       "[2 rows x 74 columns]"
      ]
     },
     "execution_count": 2,
     "metadata": {},
     "output_type": "execute_result"
    }
   ],
   "source": [
    "FILE_NAME = 'airbnb.csv' ;\n",
    "df_raw = read_csv(FILE_NAME ) ;\n",
    "df_raw.head(2)"
   ]
  },
  {
   "cell_type": "markdown",
   "metadata": {},
   "source": [
    "## Eliminación de columnas con excesivos valores nulos"
   ]
  },
  {
   "cell_type": "code",
   "execution_count": 3,
   "metadata": {},
   "outputs": [
    {
     "name": "stdout",
     "output_type": "stream",
     "text": [
      "Num de columnas del dataset original : 74\n",
      "Num de columnas eliminadas : 25\n"
     ]
    }
   ],
   "source": [
    "print('Num de columnas del dataset original : %d' % ( df_raw.shape[1] ) ) ;\n",
    "filtered_columns = df_raw.isna().sum() < 10 ;\n",
    "df_filtered_cols = df_raw.loc[ : , filtered_columns ]\n",
    "print('Num de columnas eliminadas : %d' % ( df_raw.shape[1] - df_filtered_cols.shape[1] ) ) ;"
   ]
  },
  {
   "cell_type": "markdown",
   "metadata": {},
   "source": [
    "## Eliminación de filas con valores nulos"
   ]
  },
  {
   "cell_type": "code",
   "execution_count": 4,
   "metadata": {},
   "outputs": [
    {
     "name": "stdout",
     "output_type": "stream",
     "text": [
      "Num total de filas : 17608\n",
      "Num de filas eliminadas : 11\n"
     ]
    }
   ],
   "source": [
    "print('Num total de filas : %d' % ( df_filtered_cols.shape[0] ) ) ;\n",
    "df_filtered_rows = df_filtered_cols.dropna( axis = 0 , how = 'any' ) ;\n",
    "df_filtered_rows = df_filtered_rows.reset_index( drop = True ) ; \n",
    "print('Num de filas eliminadas : %d' % ( df_filtered_cols.shape[0] - df_filtered_rows.shape[0] ) ) ;"
   ]
  },
  {
   "cell_type": "markdown",
   "metadata": {},
   "source": [
    "## Filtrado de columnas numéricas relevantes"
   ]
  },
  {
   "cell_type": "code",
   "execution_count": 5,
   "metadata": {},
   "outputs": [
    {
     "name": "stdout",
     "output_type": "stream",
     "text": [
      "Num total de columnas : 47\n",
      "Num de columnas eliminadas : 2\n"
     ]
    }
   ],
   "source": [
    "num_cols = df_filtered_rows.select_dtypes( include = np.number ).columns ;\n",
    "unique_values = df_filtered_rows[ num_cols ].apply( lambda col : col.unique().shape[0] ) ;\n",
    "\n",
    "bad_num_cols = unique_values[ ( unique_values == 1 ) | ( unique_values == df_filtered_rows.shape[0] ) ].index ;\n",
    "df_num_col_filtered = df_filtered_rows.drop( bad_num_cols , axis = 1 ) ;\n",
    "\n",
    "print('Num total de columnas : %d' % ( df_num_col_filtered.shape[1] ) ) ;\n",
    "print('Num de columnas eliminadas : %d' % ( bad_num_cols.shape[0] ) ) ;"
   ]
  },
  {
   "cell_type": "markdown",
   "metadata": {},
   "source": [
    "## Filtrado de columnas no numericas relevantes"
   ]
  },
  {
   "cell_type": "code",
   "execution_count": 6,
   "metadata": {},
   "outputs": [
    {
     "name": "stdout",
     "output_type": "stream",
     "text": [
      "Num total de columnas : 36\n",
      "Num de columnas no numericas eliminadas : 11\n"
     ]
    }
   ],
   "source": [
    "non_num_cols = df_num_col_filtered.columns.difference( num_cols ) ;\n",
    "unique_values = df_num_col_filtered[ non_num_cols ].apply( lambda col : col.unique().shape[0] ) ;\n",
    "bad_str_cols = unique_values[ ( unique_values == 1 ) | (unique_values > 100 ) ].index ;\n",
    "df_str_col_filtered = df_num_col_filtered.drop( bad_str_cols , axis = 1 ) ;\n",
    "print('Num total de columnas : %d' % ( df_str_col_filtered.shape[1] ) ) ;\n",
    "print('Num de columnas no numericas eliminadas : %d' % ( bad_str_cols.shape[0] ) ) ;"
   ]
  },
  {
   "cell_type": "markdown",
   "metadata": {},
   "source": [
    "## Conversión de la columna de precio a numerico"
   ]
  },
  {
   "cell_type": "code",
   "execution_count": 7,
   "metadata": {},
   "outputs": [
    {
     "data": {
      "text/html": [
       "<div>\n",
       "<style scoped>\n",
       "    .dataframe tbody tr th:only-of-type {\n",
       "        vertical-align: middle;\n",
       "    }\n",
       "\n",
       "    .dataframe tbody tr th {\n",
       "        vertical-align: top;\n",
       "    }\n",
       "\n",
       "    .dataframe thead th {\n",
       "        text-align: right;\n",
       "    }\n",
       "</style>\n",
       "<table border=\"1\" class=\"dataframe\">\n",
       "  <thead>\n",
       "    <tr style=\"text-align: right;\">\n",
       "      <th></th>\n",
       "      <th>last_scraped</th>\n",
       "      <th>host_id</th>\n",
       "      <th>host_is_superhost</th>\n",
       "      <th>host_listings_count</th>\n",
       "      <th>host_total_listings_count</th>\n",
       "      <th>host_has_profile_pic</th>\n",
       "      <th>host_identity_verified</th>\n",
       "      <th>neighbourhood_cleansed</th>\n",
       "      <th>latitude</th>\n",
       "      <th>longitude</th>\n",
       "      <th>...</th>\n",
       "      <th>calendar_last_scraped</th>\n",
       "      <th>number_of_reviews</th>\n",
       "      <th>number_of_reviews_ltm</th>\n",
       "      <th>number_of_reviews_l30d</th>\n",
       "      <th>instant_bookable</th>\n",
       "      <th>calculated_host_listings_count</th>\n",
       "      <th>calculated_host_listings_count_entire_homes</th>\n",
       "      <th>calculated_host_listings_count_private_rooms</th>\n",
       "      <th>calculated_host_listings_count_shared_rooms</th>\n",
       "      <th>price</th>\n",
       "    </tr>\n",
       "  </thead>\n",
       "  <tbody>\n",
       "    <tr>\n",
       "      <th>0</th>\n",
       "      <td>2020-09-21</td>\n",
       "      <td>42942</td>\n",
       "      <td>f</td>\n",
       "      <td>0.0</td>\n",
       "      <td>0.0</td>\n",
       "      <td>t</td>\n",
       "      <td>t</td>\n",
       "      <td>Calvià</td>\n",
       "      <td>39.51888</td>\n",
       "      <td>2.48182</td>\n",
       "      <td>...</td>\n",
       "      <td>2020-09-21</td>\n",
       "      <td>103</td>\n",
       "      <td>8</td>\n",
       "      <td>2</td>\n",
       "      <td>f</td>\n",
       "      <td>1</td>\n",
       "      <td>1</td>\n",
       "      <td>0</td>\n",
       "      <td>0</td>\n",
       "      <td>89.0</td>\n",
       "    </tr>\n",
       "    <tr>\n",
       "      <th>1</th>\n",
       "      <td>2020-09-21</td>\n",
       "      <td>529151</td>\n",
       "      <td>f</td>\n",
       "      <td>1.0</td>\n",
       "      <td>1.0</td>\n",
       "      <td>t</td>\n",
       "      <td>t</td>\n",
       "      <td>Santa Margalida</td>\n",
       "      <td>39.76347</td>\n",
       "      <td>3.16255</td>\n",
       "      <td>...</td>\n",
       "      <td>2020-09-21</td>\n",
       "      <td>30</td>\n",
       "      <td>13</td>\n",
       "      <td>0</td>\n",
       "      <td>t</td>\n",
       "      <td>1</td>\n",
       "      <td>1</td>\n",
       "      <td>0</td>\n",
       "      <td>0</td>\n",
       "      <td>175.0</td>\n",
       "    </tr>\n",
       "  </tbody>\n",
       "</table>\n",
       "<p>2 rows × 37 columns</p>\n",
       "</div>"
      ],
      "text/plain": [
       "  last_scraped  host_id host_is_superhost  host_listings_count  \\\n",
       "0   2020-09-21    42942                 f                  0.0   \n",
       "1   2020-09-21   529151                 f                  1.0   \n",
       "\n",
       "   host_total_listings_count host_has_profile_pic host_identity_verified  \\\n",
       "0                        0.0                    t                      t   \n",
       "1                        1.0                    t                      t   \n",
       "\n",
       "  neighbourhood_cleansed  latitude  longitude  ... calendar_last_scraped  \\\n",
       "0                 Calvià  39.51888    2.48182  ...            2020-09-21   \n",
       "1        Santa Margalida  39.76347    3.16255  ...            2020-09-21   \n",
       "\n",
       "  number_of_reviews  number_of_reviews_ltm number_of_reviews_l30d  \\\n",
       "0               103                      8                      2   \n",
       "1                30                     13                      0   \n",
       "\n",
       "   instant_bookable  calculated_host_listings_count  \\\n",
       "0                 f                               1   \n",
       "1                 t                               1   \n",
       "\n",
       "   calculated_host_listings_count_entire_homes  \\\n",
       "0                                            1   \n",
       "1                                            1   \n",
       "\n",
       "   calculated_host_listings_count_private_rooms  \\\n",
       "0                                             0   \n",
       "1                                             0   \n",
       "\n",
       "   calculated_host_listings_count_shared_rooms  price  \n",
       "0                                            0   89.0  \n",
       "1                                            0  175.0  \n",
       "\n",
       "[2 rows x 37 columns]"
      ]
     },
     "execution_count": 7,
     "metadata": {},
     "output_type": "execute_result"
    }
   ],
   "source": [
    "df_with_price = df_str_col_filtered.copy();\n",
    "df_with_price['price'] = df_raw['price'].apply( lambda price : float(price.strip( '$' ).replace(',','')) ) ;\n",
    "df_with_price.head(2)"
   ]
  },
  {
   "cell_type": "markdown",
   "metadata": {},
   "source": [
    "## Conversión de columnas no numericas a categoricas"
   ]
  },
  {
   "cell_type": "code",
   "execution_count": 8,
   "metadata": {},
   "outputs": [
    {
     "data": {
      "text/html": [
       "<div>\n",
       "<style scoped>\n",
       "    .dataframe tbody tr th:only-of-type {\n",
       "        vertical-align: middle;\n",
       "    }\n",
       "\n",
       "    .dataframe tbody tr th {\n",
       "        vertical-align: top;\n",
       "    }\n",
       "\n",
       "    .dataframe thead th {\n",
       "        text-align: right;\n",
       "    }\n",
       "</style>\n",
       "<table border=\"1\" class=\"dataframe\">\n",
       "  <thead>\n",
       "    <tr style=\"text-align: right;\">\n",
       "      <th></th>\n",
       "      <th>last_scraped</th>\n",
       "      <th>host_id</th>\n",
       "      <th>host_is_superhost</th>\n",
       "      <th>host_listings_count</th>\n",
       "      <th>host_total_listings_count</th>\n",
       "      <th>host_has_profile_pic</th>\n",
       "      <th>host_identity_verified</th>\n",
       "      <th>neighbourhood_cleansed</th>\n",
       "      <th>latitude</th>\n",
       "      <th>longitude</th>\n",
       "      <th>...</th>\n",
       "      <th>calendar_last_scraped</th>\n",
       "      <th>number_of_reviews</th>\n",
       "      <th>number_of_reviews_ltm</th>\n",
       "      <th>number_of_reviews_l30d</th>\n",
       "      <th>instant_bookable</th>\n",
       "      <th>calculated_host_listings_count</th>\n",
       "      <th>calculated_host_listings_count_entire_homes</th>\n",
       "      <th>calculated_host_listings_count_private_rooms</th>\n",
       "      <th>calculated_host_listings_count_shared_rooms</th>\n",
       "      <th>price</th>\n",
       "    </tr>\n",
       "  </thead>\n",
       "  <tbody>\n",
       "    <tr>\n",
       "      <th>0</th>\n",
       "      <td>2</td>\n",
       "      <td>42942</td>\n",
       "      <td>0</td>\n",
       "      <td>0.0</td>\n",
       "      <td>0.0</td>\n",
       "      <td>1</td>\n",
       "      <td>1</td>\n",
       "      <td>10</td>\n",
       "      <td>39.51888</td>\n",
       "      <td>2.48182</td>\n",
       "      <td>...</td>\n",
       "      <td>2</td>\n",
       "      <td>103</td>\n",
       "      <td>8</td>\n",
       "      <td>2</td>\n",
       "      <td>0</td>\n",
       "      <td>1</td>\n",
       "      <td>1</td>\n",
       "      <td>0</td>\n",
       "      <td>0</td>\n",
       "      <td>89.0</td>\n",
       "    </tr>\n",
       "    <tr>\n",
       "      <th>1</th>\n",
       "      <td>2</td>\n",
       "      <td>529151</td>\n",
       "      <td>0</td>\n",
       "      <td>1.0</td>\n",
       "      <td>1.0</td>\n",
       "      <td>1</td>\n",
       "      <td>1</td>\n",
       "      <td>42</td>\n",
       "      <td>39.76347</td>\n",
       "      <td>3.16255</td>\n",
       "      <td>...</td>\n",
       "      <td>2</td>\n",
       "      <td>30</td>\n",
       "      <td>13</td>\n",
       "      <td>0</td>\n",
       "      <td>1</td>\n",
       "      <td>1</td>\n",
       "      <td>1</td>\n",
       "      <td>0</td>\n",
       "      <td>0</td>\n",
       "      <td>175.0</td>\n",
       "    </tr>\n",
       "  </tbody>\n",
       "</table>\n",
       "<p>2 rows × 37 columns</p>\n",
       "</div>"
      ],
      "text/plain": [
       "   last_scraped  host_id  host_is_superhost  host_listings_count  \\\n",
       "0             2    42942                  0                  0.0   \n",
       "1             2   529151                  0                  1.0   \n",
       "\n",
       "   host_total_listings_count  host_has_profile_pic  host_identity_verified  \\\n",
       "0                        0.0                     1                       1   \n",
       "1                        1.0                     1                       1   \n",
       "\n",
       "   neighbourhood_cleansed  latitude  longitude  ...  calendar_last_scraped  \\\n",
       "0                      10  39.51888    2.48182  ...                      2   \n",
       "1                      42  39.76347    3.16255  ...                      2   \n",
       "\n",
       "   number_of_reviews  number_of_reviews_ltm  number_of_reviews_l30d  \\\n",
       "0                103                      8                       2   \n",
       "1                 30                     13                       0   \n",
       "\n",
       "   instant_bookable  calculated_host_listings_count  \\\n",
       "0                 0                               1   \n",
       "1                 1                               1   \n",
       "\n",
       "   calculated_host_listings_count_entire_homes  \\\n",
       "0                                            1   \n",
       "1                                            1   \n",
       "\n",
       "   calculated_host_listings_count_private_rooms  \\\n",
       "0                                             0   \n",
       "1                                             0   \n",
       "\n",
       "   calculated_host_listings_count_shared_rooms  price  \n",
       "0                                            0   89.0  \n",
       "1                                            0  175.0  \n",
       "\n",
       "[2 rows x 37 columns]"
      ]
     },
     "execution_count": 8,
     "metadata": {},
     "output_type": "execute_result"
    }
   ],
   "source": [
    "df_formated = df_with_price.copy() ;\n",
    "num_cols = df_with_price.select_dtypes( include = np.number ).columns ;\n",
    "non_num_cols = [ col for col in df_with_price.columns if col not in num_cols ] ;\n",
    "\n",
    "df_formated[ non_num_cols ] = df_with_price[ non_num_cols ].apply( lambda col : col.astype('category').cat.codes ) ;\n",
    "df_formated.head(2)"
   ]
  },
  {
   "cell_type": "markdown",
   "metadata": {},
   "source": [
    "## Búsqueda de colinealidad con el precio"
   ]
  },
  {
   "cell_type": "code",
   "execution_count": 9,
   "metadata": {},
   "outputs": [],
   "source": [
    "df_price_corr = df_formated.corr()['price'] ;\n",
    "df_price_corr = df_price_corr.drop('price') ;\n",
    "df_price_corr = df_price_corr.abs() * 100 ;\n",
    "threshold = 1.4 ;\n",
    "most_correlated_cols = df_price_corr[ df_price_corr > threshold ].index.values.tolist() ;\n",
    "df_most_corr = df_formated[ most_correlated_cols + [ 'price' ] ] ;"
   ]
  },
  {
   "cell_type": "code",
   "execution_count": 10,
   "metadata": {},
   "outputs": [
    {
     "data": {
      "image/png": "[encoded data removed]",
      "text/plain": [
       "<Figure size 1080x360 with 1 Axes>"
      ]
     },
     "metadata": {
      "needs_background": "light"
     },
     "output_type": "display_data"
    }
   ],
   "source": [
    "bar_colors = ['#5CFF68' if(col in most_correlated_cols) else '#68A8FF'  for col in df_price_corr.index.tolist() ] ;\n",
    "ax = df_price_corr.plot.bar( figsize = ( 15 , 5 ) , color = bar_colors , label = 'Correlación' ) ;\n",
    "ax.axhline( threshold , linestyle = '--' , color = 'green' , label = 'Umbral' ) ;\n",
    "ax.set_title( 'Selección Descriptores linealmente correlacionados con el precio' ) ;\n",
    "ax.set_ylabel( 'Correlación [ % ]' ) ;\n",
    "ax.legend();\n",
    "show();"
   ]
  },
  {
   "cell_type": "markdown",
   "metadata": {},
   "source": [
    "## Eliminado de valores atípicos"
   ]
  },
  {
   "cell_type": "code",
   "execution_count": 11,
   "metadata": {},
   "outputs": [
    {
     "data": {
      "text/html": [
       "<div>\n",
       "<style scoped>\n",
       "    .dataframe tbody tr th:only-of-type {\n",
       "        vertical-align: middle;\n",
       "    }\n",
       "\n",
       "    .dataframe tbody tr th {\n",
       "        vertical-align: top;\n",
       "    }\n",
       "\n",
       "    .dataframe thead th {\n",
       "        text-align: right;\n",
       "    }\n",
       "</style>\n",
       "<table border=\"1\" class=\"dataframe\">\n",
       "  <thead>\n",
       "    <tr style=\"text-align: right;\">\n",
       "      <th></th>\n",
       "      <th>host_is_superhost</th>\n",
       "      <th>maximum_nights</th>\n",
       "      <th>number_of_reviews</th>\n",
       "      <th>number_of_reviews_ltm</th>\n",
       "      <th>price</th>\n",
       "    </tr>\n",
       "  </thead>\n",
       "  <tbody>\n",
       "    <tr>\n",
       "      <th>0</th>\n",
       "      <td>0</td>\n",
       "      <td>60</td>\n",
       "      <td>103</td>\n",
       "      <td>8</td>\n",
       "      <td>89.0</td>\n",
       "    </tr>\n",
       "    <tr>\n",
       "      <th>1</th>\n",
       "      <td>0</td>\n",
       "      <td>365</td>\n",
       "      <td>30</td>\n",
       "      <td>13</td>\n",
       "      <td>175.0</td>\n",
       "    </tr>\n",
       "    <tr>\n",
       "      <th>2</th>\n",
       "      <td>1</td>\n",
       "      <td>365</td>\n",
       "      <td>14</td>\n",
       "      <td>0</td>\n",
       "      <td>140.0</td>\n",
       "    </tr>\n",
       "    <tr>\n",
       "      <th>3</th>\n",
       "      <td>0</td>\n",
       "      <td>365</td>\n",
       "      <td>9</td>\n",
       "      <td>0</td>\n",
       "      <td>200.0</td>\n",
       "    </tr>\n",
       "  </tbody>\n",
       "</table>\n",
       "</div>"
      ],
      "text/plain": [
       "   host_is_superhost  maximum_nights  number_of_reviews  \\\n",
       "0                  0              60                103   \n",
       "1                  0             365                 30   \n",
       "2                  1             365                 14   \n",
       "3                  0             365                  9   \n",
       "\n",
       "   number_of_reviews_ltm  price  \n",
       "0                      8   89.0  \n",
       "1                     13  175.0  \n",
       "2                      0  140.0  \n",
       "3                      0  200.0  "
      ]
     },
     "execution_count": 11,
     "metadata": {},
     "output_type": "execute_result"
    }
   ],
   "source": [
    "non_outlier_idx = ( ( df_most_corr['price'].mean() - df_most_corr['price'] ) / df_most_corr['price'].std() ).abs() < 3\n",
    "df_final = df_most_corr[ non_outlier_idx ] ;\n",
    "df_final.head( 4 )"
   ]
  },
  {
   "cell_type": "markdown",
   "metadata": {},
   "source": [
    "## Normalización de los datos"
   ]
  },
  {
   "cell_type": "code",
   "execution_count": 12,
   "metadata": {},
   "outputs": [
    {
     "data": {
      "text/html": [
       "<div>\n",
       "<style scoped>\n",
       "    .dataframe tbody tr th:only-of-type {\n",
       "        vertical-align: middle;\n",
       "    }\n",
       "\n",
       "    .dataframe tbody tr th {\n",
       "        vertical-align: top;\n",
       "    }\n",
       "\n",
       "    .dataframe thead th {\n",
       "        text-align: right;\n",
       "    }\n",
       "</style>\n",
       "<table border=\"1\" class=\"dataframe\">\n",
       "  <thead>\n",
       "    <tr style=\"text-align: right;\">\n",
       "      <th></th>\n",
       "      <th>host_is_superhost</th>\n",
       "      <th>maximum_nights</th>\n",
       "      <th>number_of_reviews</th>\n",
       "      <th>number_of_reviews_ltm</th>\n",
       "      <th>price</th>\n",
       "    </tr>\n",
       "  </thead>\n",
       "  <tbody>\n",
       "    <tr>\n",
       "      <th>0</th>\n",
       "      <td>0.0</td>\n",
       "      <td>0.016862</td>\n",
       "      <td>0.198077</td>\n",
       "      <td>0.108108</td>\n",
       "      <td>0.061084</td>\n",
       "    </tr>\n",
       "    <tr>\n",
       "      <th>1</th>\n",
       "      <td>0.0</td>\n",
       "      <td>0.104030</td>\n",
       "      <td>0.057692</td>\n",
       "      <td>0.175676</td>\n",
       "      <td>0.120110</td>\n",
       "    </tr>\n",
       "    <tr>\n",
       "      <th>2</th>\n",
       "      <td>1.0</td>\n",
       "      <td>0.104030</td>\n",
       "      <td>0.026923</td>\n",
       "      <td>0.000000</td>\n",
       "      <td>0.096088</td>\n",
       "    </tr>\n",
       "    <tr>\n",
       "      <th>3</th>\n",
       "      <td>0.0</td>\n",
       "      <td>0.104030</td>\n",
       "      <td>0.017308</td>\n",
       "      <td>0.000000</td>\n",
       "      <td>0.137268</td>\n",
       "    </tr>\n",
       "  </tbody>\n",
       "</table>\n",
       "</div>"
      ],
      "text/plain": [
       "   host_is_superhost  maximum_nights  number_of_reviews  \\\n",
       "0                0.0        0.016862           0.198077   \n",
       "1                0.0        0.104030           0.057692   \n",
       "2                1.0        0.104030           0.026923   \n",
       "3                0.0        0.104030           0.017308   \n",
       "\n",
       "   number_of_reviews_ltm     price  \n",
       "0               0.108108  0.061084  \n",
       "1               0.175676  0.120110  \n",
       "2               0.000000  0.096088  \n",
       "3               0.000000  0.137268  "
      ]
     },
     "execution_count": 12,
     "metadata": {},
     "output_type": "execute_result"
    }
   ],
   "source": [
    "input_scaler = MinMaxScaler( feature_range = ( 0 , 1 ) ) ;\n",
    "output_scaler = MinMaxScaler( feature_range = ( 0 , 1 ) ) ;\n",
    "\n",
    "input_cols = df_final.columns.difference( [ 'price' ] ) ;\n",
    "\n",
    "inputs = input_scaler.fit_transform( df_final[ input_cols ] ) ;\n",
    "outputs = output_scaler.fit_transform( df_final[ [ 'price' ] ] ) ;\n",
    "\n",
    "DataFrame( np.hstack( [ inputs , outputs ] ) , columns = df_final.columns ).head( 4 )"
   ]
  },
  {
   "cell_type": "markdown",
   "metadata": {},
   "source": [
    "## Separación de datos en datos de entrenamiento y test"
   ]
  },
  {
   "cell_type": "code",
   "execution_count": 13,
   "metadata": {},
   "outputs": [],
   "source": [
    "x_train, x_test, y_train, y_test = train_test_split( inputs , outputs , test_size = 0.2 , random_state = 0 ) ;\n",
    "\n",
    "y_test_real = output_scaler.inverse_transform(y_test) ;"
   ]
  },
  {
   "cell_type": "markdown",
   "metadata": {},
   "source": [
    "# Creación de modelos"
   ]
  },
  {
   "cell_type": "markdown",
   "metadata": {},
   "source": [
    "## Árbol de decisión de Regresión"
   ]
  },
  {
   "cell_type": "markdown",
   "metadata": {},
   "source": [
    "### Creación del Modelo"
   ]
  },
  {
   "cell_type": "code",
   "execution_count": 14,
   "metadata": {},
   "outputs": [],
   "source": [
    "param_grid = { 'criterion' : [ 'mse' , 'friedman_mse' , 'mae' ] , 'splitter' : [ 'best' , 'random' ] } ;\n",
    "\n",
    "decision_tree_models = GridSearchCV(\n",
    "    DecisionTreeRegressor() , param_grid ,\n",
    "    scoring = 'neg_mean_squared_error' , cv = 5 ) ;"
   ]
  },
  {
   "cell_type": "markdown",
   "metadata": {},
   "source": [
    "### Entrenamiento del Modelo"
   ]
  },
  {
   "cell_type": "code",
   "execution_count": 15,
   "metadata": {},
   "outputs": [],
   "source": [
    "decision_tree_models.fit( x_train , y_train ) ;"
   ]
  },
  {
   "cell_type": "markdown",
   "metadata": {},
   "source": [
    "### Test del Modelo"
   ]
  },
  {
   "cell_type": "code",
   "execution_count": 16,
   "metadata": {},
   "outputs": [
    {
     "data": {
      "text/html": [
       "<div>\n",
       "<style scoped>\n",
       "    .dataframe tbody tr th:only-of-type {\n",
       "        vertical-align: middle;\n",
       "    }\n",
       "\n",
       "    .dataframe tbody tr th {\n",
       "        vertical-align: top;\n",
       "    }\n",
       "\n",
       "    .dataframe thead th {\n",
       "        text-align: right;\n",
       "    }\n",
       "</style>\n",
       "<table border=\"1\" class=\"dataframe\">\n",
       "  <thead>\n",
       "    <tr style=\"text-align: right;\">\n",
       "      <th></th>\n",
       "      <th>Modelo Árbol de Decisión</th>\n",
       "    </tr>\n",
       "  </thead>\n",
       "  <tbody>\n",
       "    <tr>\n",
       "      <th>MSE</th>\n",
       "      <td>0.018778</td>\n",
       "    </tr>\n",
       "    <tr>\n",
       "      <th>Error Abs Mín</th>\n",
       "      <td>0.000000</td>\n",
       "    </tr>\n",
       "    <tr>\n",
       "      <th>Error Abs Máx</th>\n",
       "      <td>1198.390236</td>\n",
       "    </tr>\n",
       "    <tr>\n",
       "      <th>Error Medio</th>\n",
       "      <td>135.593879</td>\n",
       "    </tr>\n",
       "  </tbody>\n",
       "</table>\n",
       "</div>"
      ],
      "text/plain": [
       "               Modelo Árbol de Decisión\n",
       "MSE                            0.018778\n",
       "Error Abs Mín                  0.000000\n",
       "Error Abs Máx               1198.390236\n",
       "Error Medio                  135.593879"
      ]
     },
     "execution_count": 16,
     "metadata": {},
     "output_type": "execute_result"
    }
   ],
   "source": [
    "decision_tree_best_model = decision_tree_models.best_estimator_ ;\n",
    "y_test_pred = decision_tree_best_model.predict( x_test ).reshape( -1 , 1 ) ;\n",
    "\n",
    "y_test_pred_real = output_scaler.inverse_transform( y_test_pred ) ;\n",
    "abs_error = abs( y_test_real - y_test_pred_real ) ;\n",
    "\n",
    "data = [ mean_squared_error( y_test , y_test_pred ) , abs_error.min() , abs_error.max() , abs_error.mean() ] ;\n",
    "df_decision_tree = DataFrame( data , columns = ['Modelo Árbol de Decisión'] , index = ['MSE','Error Abs Mín' , 'Error Abs Máx','Error Medio']) ;\n",
    "df_decision_tree"
   ]
  },
  {
   "cell_type": "markdown",
   "metadata": {},
   "source": [
    "## Random Forest de Regresión"
   ]
  },
  {
   "cell_type": "markdown",
   "metadata": {},
   "source": [
    "### Creación del Modelo"
   ]
  },
  {
   "cell_type": "code",
   "execution_count": 17,
   "metadata": {},
   "outputs": [],
   "source": [
    "param_grid = { 'n_estimators' : [ 40 , 50 , 60 , 70] , 'criterion' : [ 'mse' ] } ;\n",
    "\n",
    "random_forest_models = GridSearchCV(\n",
    "    RandomForestRegressor() , param_grid ,\n",
    "    scoring = 'neg_mean_squared_error' , cv = 2 ) ;"
   ]
  },
  {
   "cell_type": "markdown",
   "metadata": {},
   "source": [
    "### Entrenamiento del Modelo"
   ]
  },
  {
   "cell_type": "code",
   "execution_count": 18,
   "metadata": {},
   "outputs": [],
   "source": [
    "random_forest_models.fit( inputs, outputs.reshape( -1 , ) ) ;"
   ]
  },
  {
   "cell_type": "markdown",
   "metadata": {},
   "source": [
    "### Test del Modelo"
   ]
  },
  {
   "cell_type": "code",
   "execution_count": 19,
   "metadata": {},
   "outputs": [
    {
     "data": {
      "text/html": [
       "<div>\n",
       "<style scoped>\n",
       "    .dataframe tbody tr th:only-of-type {\n",
       "        vertical-align: middle;\n",
       "    }\n",
       "\n",
       "    .dataframe tbody tr th {\n",
       "        vertical-align: top;\n",
       "    }\n",
       "\n",
       "    .dataframe thead th {\n",
       "        text-align: right;\n",
       "    }\n",
       "</style>\n",
       "<table border=\"1\" class=\"dataframe\">\n",
       "  <thead>\n",
       "    <tr style=\"text-align: right;\">\n",
       "      <th></th>\n",
       "      <th>Modelo de Random Forest</th>\n",
       "    </tr>\n",
       "  </thead>\n",
       "  <tbody>\n",
       "    <tr>\n",
       "      <th>MSE</th>\n",
       "      <td>0.012031</td>\n",
       "    </tr>\n",
       "    <tr>\n",
       "      <th>Error Abs Mín</th>\n",
       "      <td>0.018880</td>\n",
       "    </tr>\n",
       "    <tr>\n",
       "      <th>Error Abs Máx</th>\n",
       "      <td>1197.981120</td>\n",
       "    </tr>\n",
       "    <tr>\n",
       "      <th>Error Medio</th>\n",
       "      <td>106.015455</td>\n",
       "    </tr>\n",
       "  </tbody>\n",
       "</table>\n",
       "</div>"
      ],
      "text/plain": [
       "               Modelo de Random Forest\n",
       "MSE                           0.012031\n",
       "Error Abs Mín                 0.018880\n",
       "Error Abs Máx              1197.981120\n",
       "Error Medio                 106.015455"
      ]
     },
     "execution_count": 19,
     "metadata": {},
     "output_type": "execute_result"
    }
   ],
   "source": [
    "random_forest_best_model = random_forest_models.best_estimator_ ;\n",
    "y_test_pred = random_forest_best_model.predict( x_test ).reshape( -1 , 1 ) ;\n",
    "\n",
    "y_test_pred_real = output_scaler.inverse_transform( y_test_pred ) ;\n",
    "abs_error = abs( y_test_real - y_test_pred_real ) ;\n",
    "\n",
    "data = [ mean_squared_error( y_test , y_test_pred ) , abs_error.min() , abs_error.max() , abs_error.mean() ] ;\n",
    "df_random_forest = DataFrame( data , columns = ['Modelo de Random Forest'] , index = ['MSE','Error Abs Mín' , 'Error Abs Máx','Error Medio']) ;\n",
    "df_random_forest"
   ]
  },
  {
   "cell_type": "markdown",
   "metadata": {},
   "source": [
    "## Regresión Lineal"
   ]
  },
  {
   "cell_type": "markdown",
   "metadata": {},
   "source": [
    "### Creación del Modelo"
   ]
  },
  {
   "cell_type": "code",
   "execution_count": 20,
   "metadata": {},
   "outputs": [],
   "source": [
    "linear_reg_model = LinearRegression() ;"
   ]
  },
  {
   "cell_type": "markdown",
   "metadata": {},
   "source": [
    "### Entrenamiento del Modelo"
   ]
  },
  {
   "cell_type": "code",
   "execution_count": 21,
   "metadata": {},
   "outputs": [],
   "source": [
    "linear_reg_model.fit( x_train , y_train ) ;"
   ]
  },
  {
   "cell_type": "markdown",
   "metadata": {},
   "source": [
    "### Test del Modelo"
   ]
  },
  {
   "cell_type": "code",
   "execution_count": 22,
   "metadata": {},
   "outputs": [
    {
     "data": {
      "text/html": [
       "<div>\n",
       "<style scoped>\n",
       "    .dataframe tbody tr th:only-of-type {\n",
       "        vertical-align: middle;\n",
       "    }\n",
       "\n",
       "    .dataframe tbody tr th {\n",
       "        vertical-align: top;\n",
       "    }\n",
       "\n",
       "    .dataframe thead th {\n",
       "        text-align: right;\n",
       "    }\n",
       "</style>\n",
       "<table border=\"1\" class=\"dataframe\">\n",
       "  <thead>\n",
       "    <tr style=\"text-align: right;\">\n",
       "      <th></th>\n",
       "      <th>Modelo de Regresión Lineal</th>\n",
       "    </tr>\n",
       "  </thead>\n",
       "  <tbody>\n",
       "    <tr>\n",
       "      <th>MSE</th>\n",
       "      <td>0.014724</td>\n",
       "    </tr>\n",
       "    <tr>\n",
       "      <th>Error Abs Mín</th>\n",
       "      <td>0.056737</td>\n",
       "    </tr>\n",
       "    <tr>\n",
       "      <th>Error Abs Máx</th>\n",
       "      <td>1202.642769</td>\n",
       "    </tr>\n",
       "    <tr>\n",
       "      <th>Error Medio</th>\n",
       "      <td>120.272354</td>\n",
       "    </tr>\n",
       "  </tbody>\n",
       "</table>\n",
       "</div>"
      ],
      "text/plain": [
       "               Modelo de Regresión Lineal\n",
       "MSE                              0.014724\n",
       "Error Abs Mín                    0.056737\n",
       "Error Abs Máx                 1202.642769\n",
       "Error Medio                    120.272354"
      ]
     },
     "execution_count": 22,
     "metadata": {},
     "output_type": "execute_result"
    }
   ],
   "source": [
    "y_test_pred = linear_reg_model.predict( x_test ).reshape( -1 , 1 ) ;\n",
    "\n",
    "y_test_pred_real = output_scaler.inverse_transform( y_test_pred ) ;\n",
    "abs_error = abs( y_test_real - y_test_pred_real ) ;\n",
    "\n",
    "data = [ mean_squared_error( y_test , y_test_pred ) , abs_error.min() , abs_error.max() , abs_error.mean() ] ;\n",
    "df_lin_reg = DataFrame( data , columns = ['Modelo de Regresión Lineal'] , index = ['MSE','Error Abs Mín' , 'Error Abs Máx','Error Medio']) ;\n",
    "df_lin_reg"
   ]
  },
  {
   "cell_type": "markdown",
   "metadata": {},
   "source": [
    "# Comparativa entre modelos"
   ]
  },
  {
   "cell_type": "code",
   "execution_count": 23,
   "metadata": {},
   "outputs": [
    {
     "data": {
      "text/html": [
       "<div>\n",
       "<style scoped>\n",
       "    .dataframe tbody tr th:only-of-type {\n",
       "        vertical-align: middle;\n",
       "    }\n",
       "\n",
       "    .dataframe tbody tr th {\n",
       "        vertical-align: top;\n",
       "    }\n",
       "\n",
       "    .dataframe thead th {\n",
       "        text-align: right;\n",
       "    }\n",
       "</style>\n",
       "<table border=\"1\" class=\"dataframe\">\n",
       "  <thead>\n",
       "    <tr style=\"text-align: right;\">\n",
       "      <th></th>\n",
       "      <th>Modelo Árbol de Decisión</th>\n",
       "      <th>Modelo de Random Forest</th>\n",
       "      <th>Modelo de Regresión Lineal</th>\n",
       "    </tr>\n",
       "  </thead>\n",
       "  <tbody>\n",
       "    <tr>\n",
       "      <th>MSE</th>\n",
       "      <td>0.018778</td>\n",
       "      <td>0.012031</td>\n",
       "      <td>0.014724</td>\n",
       "    </tr>\n",
       "    <tr>\n",
       "      <th>Error Abs Mín</th>\n",
       "      <td>0.000000</td>\n",
       "      <td>0.018880</td>\n",
       "      <td>0.056737</td>\n",
       "    </tr>\n",
       "    <tr>\n",
       "      <th>Error Abs Máx</th>\n",
       "      <td>1198.390236</td>\n",
       "      <td>1197.981120</td>\n",
       "      <td>1202.642769</td>\n",
       "    </tr>\n",
       "    <tr>\n",
       "      <th>Error Medio</th>\n",
       "      <td>135.593879</td>\n",
       "      <td>106.015455</td>\n",
       "      <td>120.272354</td>\n",
       "    </tr>\n",
       "  </tbody>\n",
       "</table>\n",
       "</div>"
      ],
      "text/plain": [
       "               Modelo Árbol de Decisión  Modelo de Random Forest  \\\n",
       "MSE                            0.018778                 0.012031   \n",
       "Error Abs Mín                  0.000000                 0.018880   \n",
       "Error Abs Máx               1198.390236              1197.981120   \n",
       "Error Medio                  135.593879               106.015455   \n",
       "\n",
       "               Modelo de Regresión Lineal  \n",
       "MSE                              0.014724  \n",
       "Error Abs Mín                    0.056737  \n",
       "Error Abs Máx                 1202.642769  \n",
       "Error Medio                    120.272354  "
      ]
     },
     "execution_count": 23,
     "metadata": {},
     "output_type": "execute_result"
    }
   ],
   "source": [
    "concat( [ df_decision_tree , df_random_forest , df_lin_reg ] , axis = 1 )"
   ]
  }
 ],
 "metadata": {
  "gist": {
   "data": {
    "description": "Gradient Descent-Python",
    "public": true
   },
   "id": ""
  },
  "hide_input": false,
  "kernelspec": {
   "display_name": "Python 3",
   "language": "python",
   "name": "python3"
  },
  "language_info": {
   "codemirror_mode": {
    "name": "ipython",
    "version": 3
   },
   "file_extension": ".py",
   "mimetype": "text/x-python",
   "name": "python",
   "nbconvert_exporter": "python",
   "pygments_lexer": "ipython3",
   "version": "3.6.4"
  },
  "toc": {
   "base_numbering": 1,
   "nav_menu": {},
   "number_sections": true,
   "sideBar": true,
   "skip_h1_title": false,
   "title_cell": "Table of Contents",
   "title_sidebar": "Contents",
   "toc_cell": false,
   "toc_position": {
    "height": "calc(100% - 180px)",
    "left": "10px",
    "top": "150px",
    "width": "279.233px"
   },
   "toc_section_display": true,
   "toc_window_display": true
  },
  "varInspector": {
   "cols": {
    "lenName": 16,
    "lenType": 16,
    "lenVar": 40
   },
   "kernels_config": {
    "python": {
     "delete_cmd_postfix": "",
     "delete_cmd_prefix": "del ",
     "library": "var_list.py",
     "varRefreshCmd": "print(var_dic_list())"
    },
    "r": {
     "delete_cmd_postfix": ") ",
     "delete_cmd_prefix": "rm(",
     "library": "var_list.r",
     "varRefreshCmd": "cat(var_dic_list()) "
    }
   },
   "position": {
    "height": "461.183px",
    "left": "846.167px",
    "right": "138.333px",
    "top": "127px",
    "width": "559.667px"
   },
   "types_to_exclude": [
    "module",
    "function",
    "builtin_function_or_method",
    "instance",
    "_Feature"
   ],
   "window_display": false
  }
 },
 "nbformat": 4,
 "nbformat_minor": 4
}
